{
 "cells": [
  {
   "cell_type": "code",
   "execution_count": 1,
   "id": "fa9a4982",
   "metadata": {},
   "outputs": [
    {
     "name": "stdout",
     "output_type": "stream",
     "text": [
      "0    10\n",
      "1    20\n",
      "2    30\n",
      "3    40\n",
      "4    50\n",
      "dtype: int64\n"
     ]
    }
   ],
   "source": [
    "import pandas as pd\n",
    "import numpy as np\n",
    "\n",
    "#1. Create a simple Pandas Series from a list.\n",
    "lis=[10,20,30,40,50]\n",
    "sr=pd.Series(lis)\n",
    "print(sr)"
   ]
  },
  {
   "cell_type": "code",
   "execution_count": 2,
   "id": "1bb81b6f",
   "metadata": {},
   "outputs": [
    {
     "data": {
      "text/plain": [
       "50"
      ]
     },
     "execution_count": 2,
     "metadata": {},
     "output_type": "execute_result"
    }
   ],
   "source": [
    "#2. Return the first and last values of the Series created above\n",
    "sr[0]\n",
    "sr[4]"
   ]
  },
  {
   "cell_type": "code",
   "execution_count": 3,
   "id": "da101738",
   "metadata": {},
   "outputs": [
    {
     "name": "stdout",
     "output_type": "stream",
     "text": [
      "   0\n",
      "a  1\n",
      "b  2\n",
      "c  3\n",
      "d  4\n"
     ]
    }
   ],
   "source": [
    "#3. Create a simple Pandas Series with your own labels i.e. index\n",
    "label=['a','b','c','d']\n",
    "df=pd.DataFrame([1,2,3,4],label)\n",
    "print(df)"
   ]
  },
  {
   "cell_type": "code",
   "execution_count": 4,
   "id": "4adc4982",
   "metadata": {},
   "outputs": [
    {
     "name": "stdout",
     "output_type": "stream",
     "text": [
      "2\n",
      "4\n"
     ]
    }
   ],
   "source": [
    "#4. Access the values using your own index and print the value, also try –ve index.\n",
    "print(df[0][1])\n",
    "print(df[0][-1])"
   ]
  },
  {
   "cell_type": "code",
   "execution_count": 29,
   "id": "dc2d097c",
   "metadata": {},
   "outputs": [
    {
     "name": "stdout",
     "output_type": "stream",
     "text": [
      "a    23\n",
      "b    12\n",
      "c    18\n",
      "d    25\n",
      "e    18\n",
      "f    20\n",
      "g    12\n",
      "dtype: int64\n"
     ]
    }
   ],
   "source": [
    "#5. Create a simple Pandas Series from a dictionary\n",
    "dic1={'a':23,'b':12,'c':18,'d':25,'e':18,'f':20,'g':12}\n",
    "sr=pd.Series(dic1)\n",
    "print(sr)"
   ]
  },
  {
   "cell_type": "code",
   "execution_count": 31,
   "id": "f341586c",
   "metadata": {},
   "outputs": [
    {
     "name": "stdout",
     "output_type": "stream",
     "text": [
      "455 656 459\n",
      "day1    455\n",
      "day2    656\n",
      "day3    459\n",
      "dtype: int64\n"
     ]
    }
   ],
   "source": [
    "#6. Create a Series using only calories intake data from user defined indexes \"day1\",\"day2\", and \"day3\".\n",
    "a,b,c=input().split()\n",
    "dic2={'day1':int(a),'day2':int(b),'day3':int(c)}\n",
    "sr1=pd.Series(dic2)\n",
    "print(sr1)"
   ]
  },
  {
   "cell_type": "code",
   "execution_count": 35,
   "id": "df0793d8",
   "metadata": {},
   "outputs": [
    {
     "name": "stdout",
     "output_type": "stream",
     "text": [
      "a    23\n",
      "b    12\n",
      "c    18\n",
      "d    25\n",
      "e    18\n",
      "f    20\n",
      "g    12\n",
      "dtype: int64\n",
      "<class 'str'>\n",
      "<class 'int'>\n",
      "<class 'pandas.core.series.Series'>\n"
     ]
    }
   ],
   "source": [
    "#7. Create a Series of heterogeneous data types and check the data type of the Series as well as individual items.\n",
    "dic2={'d':456,2:'hello',6.9:34}\n",
    "sr2=pd.Series(dic2)\n",
    "print(sr)\n",
    "print(type(sr2[2]))\n",
    "print(type(sr2['d']))\n",
    "print(type(sr2))"
   ]
  },
  {
   "cell_type": "code",
   "execution_count": 36,
   "id": "0d635feb",
   "metadata": {},
   "outputs": [
    {
     "name": "stdout",
     "output_type": "stream",
     "text": [
      "12\n",
      "25\n",
      "18.285714285714285\n"
     ]
    }
   ],
   "source": [
    "#8. Compute min, max, mean values of a Series\n",
    "print(sr.min())\n",
    "print(sr.max())\n",
    "print(sr.mean())\n"
   ]
  },
  {
   "cell_type": "code",
   "execution_count": 37,
   "id": "4e5569a4",
   "metadata": {},
   "outputs": [
    {
     "name": "stdout",
     "output_type": "stream",
     "text": [
      "b    12\n",
      "g    12\n",
      "c    18\n",
      "e    18\n",
      "f    20\n",
      "a    23\n",
      "d    25\n",
      "dtype: int64 \n",
      "\n",
      "d    25\n",
      "a    23\n",
      "f    20\n",
      "c    18\n",
      "e    18\n",
      "b    12\n",
      "g    12\n",
      "dtype: int64\n"
     ]
    }
   ],
   "source": [
    "#14.Sort the values of a Series in ascending and descending order and print\n",
    "print(sr.sort_values(),'\\n')\n",
    "print(sr.sort_values(ascending=False))"
   ]
  },
  {
   "cell_type": "code",
   "execution_count": 38,
   "id": "488a1318",
   "metadata": {},
   "outputs": [
    {
     "data": {
      "text/plain": [
       "12    2\n",
       "18    2\n",
       "23    1\n",
       "25    1\n",
       "20    1\n",
       "dtype: int64"
      ]
     },
     "execution_count": 38,
     "metadata": {},
     "output_type": "execute_result"
    }
   ],
   "source": [
    "#15.Print the number of occurrences of unique values in a series. (use value_counts)\n",
    "sr.value_counts()"
   ]
  },
  {
   "cell_type": "code",
   "execution_count": 53,
   "id": "2e360c04",
   "metadata": {},
   "outputs": [
    {
     "name": "stdout",
     "output_type": "stream",
     "text": [
      "0    0.0\n",
      "1    1.0\n",
      "2    2.0\n",
      "3    3.0\n",
      "4    4.0\n",
      "5    5.0\n",
      "6    6.0\n",
      "7    7.0\n",
      "8    8.0\n",
      "9    9.0\n",
      "dtype: float64\n"
     ]
    }
   ],
   "source": [
    "#16.Create a Series of 10 integers, and later change its dtype to be float (use astype).\n",
    "sr3=pd.Series(range(10))\n",
    "sr3=sr3.astype(float)\n",
    "print(sr3)"
   ]
  },
  {
   "cell_type": "code",
   "execution_count": 56,
   "id": "e2dbfec7",
   "metadata": {},
   "outputs": [
    {
     "name": "stdout",
     "output_type": "stream",
     "text": [
      "[0. 1. 2. 3. 4. 5. 6. 7. 8. 9.]\n",
      "<class 'numpy.ndarray'>\n"
     ]
    }
   ],
   "source": [
    "#17.Convert the Series you created above to numpy array (use to_numpy(), or array )\n",
    "nparr=np.array(sr3)\n",
    "print(nparr)\n",
    "print(type(nparr))"
   ]
  },
  {
   "cell_type": "code",
   "execution_count": 59,
   "id": "53df7282",
   "metadata": {},
   "outputs": [
    {
     "data": {
      "text/plain": [
       "0    0.0\n",
       "1    1.0\n",
       "2    2.0\n",
       "3    3.0\n",
       "4    4.0\n",
       "5    5.0\n",
       "6    6.0\n",
       "7    7.0\n",
       "8    8.0\n",
       "dtype: float64"
      ]
     },
     "execution_count": 59,
     "metadata": {},
     "output_type": "execute_result"
    }
   ],
   "source": [
    "#18.Delete an item from Series using single index.\n",
    "sr3.drop(9)"
   ]
  },
  {
   "cell_type": "code",
   "execution_count": 66,
   "id": "2f773c97",
   "metadata": {},
   "outputs": [
    {
     "name": "stdout",
     "output_type": "stream",
     "text": [
      "10\n",
      "10\n"
     ]
    }
   ],
   "source": [
    "#19.Find the number of items in a series. (use len or count)\n",
    "print(len(sr3))\n",
    "print(sr3.count())"
   ]
  },
  {
   "cell_type": "code",
   "execution_count": 68,
   "id": "6138b68d",
   "metadata": {},
   "outputs": [
    {
     "data": {
      "text/plain": [
       "0     0.0\n",
       "1     1.0\n",
       "2     2.0\n",
       "3     3.0\n",
       "4     4.0\n",
       "5     5.0\n",
       "6     6.0\n",
       "7     7.0\n",
       "8     8.0\n",
       "9    33.0\n",
       "dtype: float64"
      ]
     },
     "execution_count": 68,
     "metadata": {},
     "output_type": "execute_result"
    }
   ],
   "source": [
    "#20. Append Series by assigning a value to a new index. (S[n]=v)\n",
    "sr3[9]=33\n",
    "sr3"
   ]
  },
  {
   "cell_type": "code",
   "execution_count": 88,
   "id": "70d0fb48",
   "metadata": {},
   "outputs": [
    {
     "name": "stdout",
     "output_type": "stream",
     "text": [
      "True\n",
      "False\n"
     ]
    }
   ],
   "source": [
    "#21.Check if a value is present in a Series. (use type cast to a set or check in values)\n",
    "print(3 in sr3)\n",
    "print(53 in sr3)"
   ]
  },
  {
   "cell_type": "code",
   "execution_count": 104,
   "id": "d49e3301",
   "metadata": {},
   "outputs": [
    {
     "data": {
      "text/plain": [
       "True"
      ]
     },
     "execution_count": 104,
     "metadata": {},
     "output_type": "execute_result"
    }
   ],
   "source": [
    "#22. Print the index of a Series and also if all indexes appear only once. (use is_unique)\n",
    "pd.Index(sr2).is_unique"
   ]
  },
  {
   "cell_type": "code",
   "execution_count": 125,
   "id": "25121743",
   "metadata": {},
   "outputs": [],
   "source": [
    "#23. Create two Series one with default index, other with index like ‘a’,’b’,’c’,’d’, etc. then access both the Series based on label and position\n",
    "s1=pd.Series([0,1,2,3,4])\n",
    "s2=pd.Series(range(0,5), index=['a','b','c','d','e'])"
   ]
  },
  {
   "cell_type": "code",
   "execution_count": 126,
   "id": "19586d9a",
   "metadata": {},
   "outputs": [
    {
     "name": "stdout",
     "output_type": "stream",
     "text": [
      "0    0\n",
      "1    1\n",
      "2    2\n",
      "3    3\n",
      "4    4\n",
      "dtype: int64\n",
      "a    0\n",
      "b    1\n",
      "c    2\n",
      "d    3\n",
      "e    4\n",
      "dtype: int64\n"
     ]
    }
   ],
   "source": [
    "print(s1)\n",
    "print(s2)"
   ]
  },
  {
   "cell_type": "code",
   "execution_count": 140,
   "id": "162d0e0c",
   "metadata": {},
   "outputs": [
    {
     "name": "stdout",
     "output_type": "stream",
     "text": [
      "34\n",
      "hello\n"
     ]
    }
   ],
   "source": [
    "#24. Try function at and iat on above problem and observe the difference in output with respect to loc and iloc.\n",
    "print(sr2.iat[2])\n",
    "print(sr2.at[2])\n"
   ]
  }
 ],
 "metadata": {
  "kernelspec": {
   "display_name": "Python 3 (ipykernel)",
   "language": "python",
   "name": "python3"
  },
  "language_info": {
   "codemirror_mode": {
    "name": "ipython",
    "version": 3
   },
   "file_extension": ".py",
   "mimetype": "text/x-python",
   "name": "python",
   "nbconvert_exporter": "python",
   "pygments_lexer": "ipython3",
   "version": "3.10.6"
  }
 },
 "nbformat": 4,
 "nbformat_minor": 5
}
