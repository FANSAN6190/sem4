{
 "cells": [
  {
   "cell_type": "code",
   "execution_count": 3,
   "id": "684df9a3",
   "metadata": {},
   "outputs": [],
   "source": [
    "import numpy as np\n"
   ]
  },
  {
   "cell_type": "code",
   "execution_count": 4,
   "id": "3c0a51d3",
   "metadata": {},
   "outputs": [
    {
     "name": "stdout",
     "output_type": "stream",
     "text": [
      "[0. 0. 0. 0. 0.]\n"
     ]
    }
   ],
   "source": [
    "print(np.zeros((5)))"
   ]
  },
  {
   "cell_type": "code",
   "execution_count": 5,
   "id": "9b20651b",
   "metadata": {},
   "outputs": [
    {
     "name": "stdout",
     "output_type": "stream",
     "text": [
      "[0. 0. 0. 0. 0.]\n"
     ]
    }
   ],
   "source": [
    "print(np.zeros(5))"
   ]
  },
  {
   "cell_type": "code",
   "execution_count": 6,
   "id": "59f07ff4",
   "metadata": {},
   "outputs": [
    {
     "name": "stdout",
     "output_type": "stream",
     "text": [
      "[[0. 0. 0. 0.]\n",
      " [0. 0. 0. 0.]\n",
      " [0. 0. 0. 0.]]\n"
     ]
    }
   ],
   "source": [
    "print(np.zeros((3,4)))"
   ]
  },
  {
   "cell_type": "code",
   "execution_count": 7,
   "id": "2f57a03f",
   "metadata": {},
   "outputs": [
    {
     "name": "stdout",
     "output_type": "stream",
     "text": [
      "[1. 1. 1. 1. 1.]\n"
     ]
    }
   ],
   "source": [
    "print(np.ones(5))"
   ]
  },
  {
   "cell_type": "code",
   "execution_count": 8,
   "id": "be93a8b4",
   "metadata": {},
   "outputs": [
    {
     "name": "stdout",
     "output_type": "stream",
     "text": [
      "[[5. 5. 5. 5. 5.]\n",
      " [5. 5. 5. 5. 5.]\n",
      " [5. 5. 5. 5. 5.]]\n"
     ]
    }
   ],
   "source": [
    "print(5*np.ones((3,5)))"
   ]
  },
  {
   "cell_type": "code",
   "execution_count": 9,
   "id": "b9dbf318",
   "metadata": {},
   "outputs": [
    {
     "data": {
      "text/plain": [
       "array([[5., 5., 5., 5., 5.],\n",
       "       [5., 5., 5., 5., 5.],\n",
       "       [5., 5., 5., 5., 5.]])"
      ]
     },
     "execution_count": 9,
     "metadata": {},
     "output_type": "execute_result"
    }
   ],
   "source": [
    "np.empty((3,5))"
   ]
  },
  {
   "cell_type": "code",
   "execution_count": 10,
   "id": "dd5b87d7",
   "metadata": {},
   "outputs": [
    {
     "data": {
      "text/plain": [
       "array([[4.66764279e-310, 0.00000000e+000, 6.93839802e-310],\n",
       "       [6.93839616e-310, 6.93837406e-310, 6.93839812e-310]])"
      ]
     },
     "execution_count": 10,
     "metadata": {},
     "output_type": "execute_result"
    }
   ],
   "source": [
    "np.empty((2,3))"
   ]
  },
  {
   "cell_type": "code",
   "execution_count": 11,
   "id": "afc99152",
   "metadata": {},
   "outputs": [
    {
     "name": "stdout",
     "output_type": "stream",
     "text": [
      "(4, 4)\n"
     ]
    }
   ],
   "source": [
    "mat1=np.eye(4)\n",
    "print(mat1.shape)"
   ]
  },
  {
   "cell_type": "code",
   "execution_count": 12,
   "id": "8fdb0c98",
   "metadata": {},
   "outputs": [
    {
     "name": "stdout",
     "output_type": "stream",
     "text": [
      "[[1. 0. 0. 0.]\n",
      " [0. 1. 0. 0.]\n",
      " [0. 0. 1. 0.]\n",
      " [0. 0. 0. 1.]]\n"
     ]
    }
   ],
   "source": [
    "print(mat1)"
   ]
  },
  {
   "cell_type": "code",
   "execution_count": 13,
   "id": "69dd4dde",
   "metadata": {},
   "outputs": [
    {
     "name": "stdout",
     "output_type": "stream",
     "text": [
      "[[0.55452723 0.91147709 0.59760979]\n",
      " [0.47677589 0.38854326 0.58957771]]\n"
     ]
    }
   ],
   "source": [
    "print(np.random.rand(2,3))"
   ]
  },
  {
   "cell_type": "code",
   "execution_count": 14,
   "id": "94f14c9c",
   "metadata": {},
   "outputs": [
    {
     "name": "stdout",
     "output_type": "stream",
     "text": [
      "[[ 0.41621248 -0.12024226  0.46256413]\n",
      " [ 0.55344378  0.50591329 -0.37567156]]\n"
     ]
    }
   ],
   "source": [
    "print(np.random.randn(2,3))"
   ]
  },
  {
   "cell_type": "code",
   "execution_count": 15,
   "id": "366fb65c",
   "metadata": {},
   "outputs": [
    {
     "name": "stdout",
     "output_type": "stream",
     "text": [
      "[31 36 31 75 35]\n"
     ]
    }
   ],
   "source": [
    "print(np.random.randint(1,100,5))"
   ]
  },
  {
   "cell_type": "code",
   "execution_count": 16,
   "id": "2fe504c4",
   "metadata": {},
   "outputs": [
    {
     "name": "stdout",
     "output_type": "stream",
     "text": [
      "[[62 16 65 98]\n",
      " [50 14 80 52]\n",
      " [27 21 25 11]\n",
      " [86 33 85 52]]\n"
     ]
    }
   ],
   "source": [
    "print(np.random.randint(1,100,(4,4)))"
   ]
  },
  {
   "cell_type": "code",
   "execution_count": null,
   "id": "bc7cedb2",
   "metadata": {},
   "outputs": [],
   "source": []
  },
  {
   "cell_type": "code",
   "execution_count": 17,
   "id": "cd22f9a3",
   "metadata": {},
   "outputs": [
    {
     "name": "stdout",
     "output_type": "stream",
     "text": [
      "(30,)\n",
      "(2, 3, 5)\n",
      "(6, 5)\n"
     ]
    }
   ],
   "source": [
    "###############################################\n",
    "from numpy.random import randint as ri\n",
    "a=ri(1,100,30)\n",
    "b=a.reshape(2,3,5)\n",
    "c=a.reshape(6,5)\n",
    "print(a.shape)\n",
    "print(b.shape)\n",
    "print(c.shape)"
   ]
  },
  {
   "cell_type": "code",
   "execution_count": 18,
   "id": "d7d355c2",
   "metadata": {},
   "outputs": [
    {
     "name": "stdout",
     "output_type": "stream",
     "text": [
      "\n",
      "a looks like\n",
      " -------------------- \n",
      " [22 29 38 39 56 83 27 20 13 23 39 95 42  4 37 52 21 85 35 76 54 96 43 41\n",
      " 81 51 92  5 75 13] \n",
      " --------------------\n",
      "\n",
      "b looks like\n",
      " -------------------- \n",
      " [[[22 29 38 39 56]\n",
      "  [83 27 20 13 23]\n",
      "  [39 95 42  4 37]]\n",
      "\n",
      " [[52 21 85 35 76]\n",
      "  [54 96 43 41 81]\n",
      "  [51 92  5 75 13]]] \n",
      " --------------------\n",
      "\n",
      "c looks like\n",
      " -------------------- \n",
      " [[22 29 38 39 56]\n",
      " [83 27 20 13 23]\n",
      " [39 95 42  4 37]\n",
      " [52 21 85 35 76]\n",
      " [54 96 43 41 81]\n",
      " [51 92  5 75 13]] \n",
      " --------------------\n"
     ]
    }
   ],
   "source": [
    "print(\"\\na looks like\\n\",'-'*20,\"\\n\",a,\"\\n\",'-'*20)\n",
    "print(\"\\nb looks like\\n\",'-'*20,\"\\n\",b,\"\\n\",'-'*20)\n",
    "print(\"\\nc looks like\\n\",'-'*20,\"\\n\",c,\"\\n\",'-'*20)"
   ]
  },
  {
   "cell_type": "code",
   "execution_count": 19,
   "id": "1fdddd52",
   "metadata": {},
   "outputs": [
    {
     "name": "stdout",
     "output_type": "stream",
     "text": [
      "[94 28 56  4 31 74 35 53 90 78]\n"
     ]
    }
   ],
   "source": [
    "A=ri(1,100,10)\n",
    "print(A)"
   ]
  },
  {
   "cell_type": "code",
   "execution_count": 20,
   "id": "e4d1c8c7",
   "metadata": {},
   "outputs": [
    {
     "name": "stdout",
     "output_type": "stream",
     "text": [
      "[ 4 28 31 35 53 56 74 78 90 94]\n"
     ]
    }
   ],
   "source": [
    "print(np.sort(A,kind='mergesort'))"
   ]
  },
  {
   "cell_type": "code",
   "execution_count": 21,
   "id": "2612a963",
   "metadata": {},
   "outputs": [
    {
     "name": "stdout",
     "output_type": "stream",
     "text": [
      "[[24 33 80 34 36]\n",
      " [74 32 67 99 22]\n",
      " [15 70 69 96 22]\n",
      " [61 89 30 35 24]\n",
      " [26 20 67 60  4]]\n",
      "\n",
      " [[24 33 34 36 80]\n",
      " [22 32 67 74 99]\n",
      " [15 22 69 70 96]\n",
      " [24 30 35 61 89]\n",
      " [ 4 20 26 60 67]]\n",
      "\n",
      " [[15 20 30 34  4]\n",
      " [24 32 67 35 22]\n",
      " [26 33 67 60 22]\n",
      " [61 70 69 96 24]\n",
      " [74 89 80 99 36]]\n"
     ]
    }
   ],
   "source": [
    "M=ri(1,100,25).reshape(5,5)\n",
    "print(M)\n",
    "print('\\n',np.sort(M,kind=\"mergesort\"))\n",
    "print('\\n',np.sort(M,axis=0,kind=\"mergesort\"))"
   ]
  },
  {
   "cell_type": "code",
   "execution_count": 22,
   "id": "c949059c",
   "metadata": {},
   "outputs": [
    {
     "name": "stdout",
     "output_type": "stream",
     "text": [
      "94\n",
      "99\n"
     ]
    }
   ],
   "source": [
    "print(A.max())\n",
    "print(M.max())\n"
   ]
  },
  {
   "cell_type": "code",
   "execution_count": 23,
   "id": "9c8f7ff9",
   "metadata": {},
   "outputs": [],
   "source": [
    "mat2=ri(1,10,(1,3,3)).reshape(3,3)"
   ]
  },
  {
   "cell_type": "code",
   "execution_count": null,
   "id": "e0922e62",
   "metadata": {},
   "outputs": [],
   "source": []
  },
  {
   "cell_type": "code",
   "execution_count": 24,
   "id": "5bf2d9da",
   "metadata": {},
   "outputs": [
    {
     "name": "stdout",
     "output_type": "stream",
     "text": [
      "[[7 1 2]\n",
      " [4 5 1]\n",
      " [4 8 1]]\n"
     ]
    }
   ],
   "source": [
    "print(mat2)"
   ]
  },
  {
   "cell_type": "code",
   "execution_count": 25,
   "id": "3c6bd572",
   "metadata": {},
   "outputs": [
    {
     "name": "stdout",
     "output_type": "stream",
     "text": [
      "[7 5 1]\n"
     ]
    }
   ],
   "source": [
    "print(mat2.diagonal(0))"
   ]
  },
  {
   "cell_type": "code",
   "execution_count": 26,
   "id": "510d7f59",
   "metadata": {},
   "outputs": [
    {
     "name": "stdout",
     "output_type": "stream",
     "text": [
      "7\n",
      "5\n",
      "1\n"
     ]
    }
   ],
   "source": [
    "for i in range(3):\n",
    "    for j in range(3):\n",
    "        if(i==j):\n",
    "            print(mat2[i][j])\n",
    "            "
   ]
  },
  {
   "cell_type": "code",
   "execution_count": 27,
   "id": "1ef69e95",
   "metadata": {},
   "outputs": [
    {
     "name": "stdout",
     "output_type": "stream",
     "text": [
      "2\n",
      "5\n",
      "4\n"
     ]
    }
   ],
   "source": [
    "for i in range(3):\n",
    "    for j in range(3):\n",
    "        if(i+j==2):\n",
    "            print(mat2[i][j])\n",
    "            "
   ]
  },
  {
   "cell_type": "code",
   "execution_count": 28,
   "id": "f4b91b41",
   "metadata": {},
   "outputs": [
    {
     "data": {
      "text/plain": [
       "array([[7, 1, 2]])"
      ]
     },
     "execution_count": 28,
     "metadata": {},
     "output_type": "execute_result"
    }
   ],
   "source": [
    "mat2[0:9:3]"
   ]
  },
  {
   "cell_type": "code",
   "execution_count": null,
   "id": "726f1c12",
   "metadata": {},
   "outputs": [],
   "source": []
  },
  {
   "cell_type": "code",
   "execution_count": null,
   "id": "6ebe7d40",
   "metadata": {},
   "outputs": [],
   "source": []
  },
  {
   "cell_type": "code",
   "execution_count": null,
   "id": "73fef21f",
   "metadata": {},
   "outputs": [],
   "source": []
  },
  {
   "cell_type": "code",
   "execution_count": null,
   "id": "adfb689c",
   "metadata": {},
   "outputs": [],
   "source": []
  },
  {
   "cell_type": "code",
   "execution_count": null,
   "id": "251dc80f",
   "metadata": {},
   "outputs": [],
   "source": []
  }
 ],
 "metadata": {
  "kernelspec": {
   "display_name": "Python 3 (ipykernel)",
   "language": "python",
   "name": "python3"
  },
  "language_info": {
   "codemirror_mode": {
    "name": "ipython",
    "version": 3
   },
   "file_extension": ".py",
   "mimetype": "text/x-python",
   "name": "python",
   "nbconvert_exporter": "python",
   "pygments_lexer": "ipython3",
   "version": "3.10.6"
  },
  "vscode": {
   "interpreter": {
    "hash": "916dbcbb3f70747c44a77c7bcd40155683ae19c65e1c03b4aa3499c5328201f1"
   }
  }
 },
 "nbformat": 4,
 "nbformat_minor": 5
}
